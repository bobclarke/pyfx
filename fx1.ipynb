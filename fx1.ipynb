{
 "cells": [
  {
   "cell_type": "code",
   "execution_count": 32,
   "metadata": {},
   "outputs": [],
   "source": [
    "import pandas as pd\n",
    "import json\n",
    "import requests\n",
    "from socketIO_client import SocketIO"
   ]
  },
  {
   "cell_type": "code",
   "execution_count": 33,
   "metadata": {},
   "outputs": [],
   "source": [
    "TRADING_API_URL = 'https://api-demo.fxcm.com:443'\n",
    "WEBSOCKET_PORT = 443\n",
    "ACCESS_TOKEN = 'a2a3a4cf0621891c59e51d4d8ccf6c410b82da3d'"
   ]
  },
  {
   "cell_type": "markdown",
   "metadata": {},
   "source": [
    "### Connect"
   ]
  },
  {
   "cell_type": "code",
   "execution_count": 34,
   "metadata": {},
   "outputs": [
    {
     "name": "stdout",
     "output_type": "stream",
     "text": [
      "Bearer 6IcATp2fupFiXMSnAAEYa2a3a4cf0621891c59e51d4d8ccf6c410b82da3d\n"
     ]
    }
   ],
   "source": [
    "def on_connect():\n",
    "    print('Websocket Connected: ' + socketIO._engineIO_session.id)\n",
    "\n",
    "def on_close():\n",
    "        print('Websocket Closed.')\n",
    "\n",
    "socketIO =  SocketIO(TRADING_API_URL, WEBSOCKET_PORT, params={'access_token' : ACCESS_TOKEN})\n",
    "\n",
    "socketIO.on('connect', on_connect)\n",
    "socketIO.on('disconnect', on_close)\n",
    "\n",
    "bearer_access_token = \"Bearer \" + socketIO._engineIO_session.id + ACCESS_TOKEN\n",
    "\n",
    "print(bearer_access_token)"
   ]
  },
  {
   "cell_type": "markdown",
   "metadata": {},
   "source": [
    "### Pull historical prices"
   ]
  },
  {
   "cell_type": "code",
   "execution_count": 35,
   "metadata": {},
   "outputs": [
    {
     "name": "stdout",
     "output_type": "stream",
     "text": [
      "Data retrieved...\n",
      "                    time  bidopen  bidclose  bidhigh   bidlow  askopen  \\\n",
      "0    2017-05-07 19:00:00  1.09978   1.10184  1.10214  1.10151  1.10010   \n",
      "1    2017-05-07 20:00:00  1.10184   1.10161  1.10221  1.10139  1.10207   \n",
      "2    2017-05-07 21:00:00  1.10161   1.10111  1.10209  1.10010  1.10228   \n",
      "3    2017-05-07 22:00:00  1.10111   1.09927  1.10132  1.09845  1.10143   \n",
      "4    2017-05-07 23:00:00  1.09927   1.09644  1.09956  1.09631  1.09937   \n",
      "5    2017-05-08 00:00:00  1.09644   1.09665  1.09739  1.09566  1.09654   \n",
      "6    2017-05-08 01:00:00  1.09665   1.09744  1.09761  1.09631  1.09673   \n",
      "7    2017-05-08 02:00:00  1.09744   1.09750  1.09823  1.09713  1.09750   \n",
      "8    2017-05-08 03:00:00  1.09750   1.09710  1.09755  1.09652  1.09757   \n",
      "9    2017-05-08 04:00:00  1.09710   1.09720  1.09726  1.09607  1.09718   \n",
      "10   2017-05-08 05:00:00  1.09720   1.09937  1.09944  1.09704  1.09728   \n",
      "11   2017-05-08 06:00:00  1.09937   1.09835  1.09964  1.09736  1.09949   \n",
      "12   2017-05-08 07:00:00  1.09835   1.09558  1.09854  1.09532  1.09843   \n",
      "13   2017-05-08 08:00:00  1.09558   1.09559  1.09650  1.09504  1.09566   \n",
      "14   2017-05-08 09:00:00  1.09559   1.09379  1.09562  1.09348  1.09567   \n",
      "15   2017-05-08 10:00:00  1.09379   1.09500  1.09572  1.09361  1.09387   \n",
      "16   2017-05-08 11:00:00  1.09500   1.09379  1.09561  1.09377  1.09507   \n",
      "17   2017-05-08 12:00:00  1.09379   1.09466  1.09506  1.09307  1.09386   \n",
      "18   2017-05-08 13:00:00  1.09466   1.09430  1.09526  1.09388  1.09474   \n",
      "19   2017-05-08 14:00:00  1.09430   1.09308  1.09479  1.09282  1.09438   \n",
      "20   2017-05-08 15:00:00  1.09308   1.09277  1.09331  1.09158  1.09316   \n",
      "21   2017-05-08 16:00:00  1.09277   1.09318  1.09359  1.09240  1.09285   \n",
      "22   2017-05-08 17:00:00  1.09318   1.09280  1.09366  1.09244  1.09326   \n",
      "23   2017-05-08 18:00:00  1.09280   1.09328  1.09350  1.09260  1.09288   \n",
      "24   2017-05-08 19:00:00  1.09328   1.09297  1.09330  1.09268  1.09336   \n",
      "25   2017-05-08 20:00:00  1.09297   1.09220  1.09299  1.09207  1.09305   \n",
      "26   2017-05-08 21:00:00  1.09220   1.09215  1.09266  1.09171  1.09257   \n",
      "27   2017-05-08 22:00:00  1.09215   1.09253  1.09263  1.09185  1.09223   \n",
      "28   2017-05-08 23:00:00  1.09253   1.09263  1.09310  1.09243  1.09261   \n",
      "29   2017-05-09 00:00:00  1.09263   1.09246  1.09322  1.09214  1.09270   \n",
      "...                  ...      ...       ...      ...      ...      ...   \n",
      "1922 2017-08-24 15:00:00  1.18043   1.18010  1.18071  1.17978  1.18051   \n",
      "1923 2017-08-24 16:00:00  1.18010   1.18042  1.18100  1.17974  1.18018   \n",
      "1924 2017-08-24 17:00:00  1.18042   1.18112  1.18143  1.18043  1.18046   \n",
      "1925 2017-08-24 18:00:00  1.18112   1.18051  1.18134  1.18019  1.18119   \n",
      "1926 2017-08-24 19:00:00  1.18051   1.18010  1.18058  1.17972  1.18057   \n",
      "1927 2017-08-24 20:00:00  1.18010   1.17982  1.18028  1.17981  1.18017   \n",
      "1928 2017-08-24 21:00:00  1.17982   1.17995  1.18012  1.17979  1.17994   \n",
      "1929 2017-08-24 22:00:00  1.17995   1.18033  1.18034  1.17991  1.18006   \n",
      "1930 2017-08-24 23:00:00  1.18033   1.17973  1.18038  1.17957  1.18041   \n",
      "1931 2017-08-25 00:00:00  1.17973   1.17963  1.17991  1.17920  1.17978   \n",
      "1932 2017-08-25 01:00:00  1.17963   1.17901  1.17975  1.17873  1.17969   \n",
      "1933 2017-08-25 02:00:00  1.17901   1.17943  1.17946  1.17879  1.17906   \n",
      "1934 2017-08-25 03:00:00  1.17943   1.17965  1.17997  1.17920  1.17948   \n",
      "1935 2017-08-25 04:00:00  1.17965   1.17977  1.17981  1.17947  1.17973   \n",
      "1936 2017-08-25 05:00:00  1.17977   1.17964  1.17997  1.17941  1.17984   \n",
      "1937 2017-08-25 06:00:00  1.17964   1.17910  1.17969  1.17886  1.17972   \n",
      "1938 2017-08-25 07:00:00  1.17910   1.17800  1.17912  1.17729  1.17918   \n",
      "1939 2017-08-25 08:00:00  1.17800   1.17960  1.18011  1.17795  1.17808   \n",
      "1940 2017-08-25 09:00:00  1.17960   1.18038  1.18046  1.17952  1.17968   \n",
      "1941 2017-08-25 10:00:00  1.18038   1.18170  1.18280  1.18019  1.18045   \n",
      "1942 2017-08-25 11:00:00  1.18170   1.18149  1.18228  1.18128  1.18176   \n",
      "1943 2017-08-25 12:00:00  1.18149   1.18050  1.18160  1.17997  1.18156   \n",
      "1944 2017-08-25 13:00:00  1.18050   1.17972  1.18145  1.17850  1.18057   \n",
      "1945 2017-08-25 14:00:00  1.17972   1.18705  1.18745  1.17920  1.17987   \n",
      "1946 2017-08-25 15:00:00  1.18705   1.18725  1.18841  1.18680  1.18712   \n",
      "1947 2017-08-25 16:00:00  1.18725   1.18864  1.18866  1.18721  1.18732   \n",
      "1948 2017-08-25 17:00:00  1.18864   1.18822  1.18896  1.18806  1.18871   \n",
      "1949 2017-08-25 18:00:00  1.18822   1.18790  1.18825  1.18718  1.18828   \n",
      "1950 2017-08-25 19:00:00  1.18790   1.19242  1.19414  1.18637  1.18798   \n",
      "1951 2017-08-25 20:00:00  1.19242   1.19193  1.19342  1.19160  1.19249   \n",
      "\n",
      "      askclose  askhigh   asklow  TickQty  \n",
      "0      1.10207  1.10241  1.10182      922  \n",
      "1      1.10228  1.10245  1.10172      516  \n",
      "2      1.10143  1.10241  1.10051     4462  \n",
      "3      1.09937  1.10148  1.09859     9647  \n",
      "4      1.09654  1.09967  1.09639     8087  \n",
      "5      1.09673  1.09746  1.09576     9961  \n",
      "6      1.09750  1.09769  1.09641     7731  \n",
      "7      1.09757  1.09832  1.09722     5127  \n",
      "8      1.09718  1.09764  1.09661     4601  \n",
      "9      1.09728  1.09736  1.09617     6470  \n",
      "10     1.09949  1.09957  1.09712     7166  \n",
      "11     1.09843  1.09983  1.09750    15009  \n",
      "12     1.09566  1.09861  1.09541    17875  \n",
      "13     1.09567  1.09658  1.09518    10475  \n",
      "14     1.09387  1.09569  1.09355    11438  \n",
      "15     1.09507  1.09580  1.09369     8262  \n",
      "16     1.09386  1.09569  1.09385     8679  \n",
      "17     1.09474  1.09513  1.09316    13105  \n",
      "18     1.09438  1.09534  1.09396    13112  \n",
      "19     1.09316  1.09487  1.09295    12707  \n",
      "20     1.09285  1.09338  1.09167    14070  \n",
      "21     1.09326  1.09367  1.09249     6062  \n",
      "22     1.09288  1.09373  1.09252     5967  \n",
      "23     1.09336  1.09358  1.09268     4406  \n",
      "24     1.09305  1.09338  1.09275     5331  \n",
      "25     1.09257  1.09308  1.09219     3598  \n",
      "26     1.09223  1.09289  1.09194     3742  \n",
      "27     1.09261  1.09271  1.09195     5446  \n",
      "28     1.09270  1.09318  1.09251     2553  \n",
      "29     1.09254  1.09331  1.09223     5305  \n",
      "...        ...      ...      ...      ...  \n",
      "1922   1.18018  1.18079  1.17985    22061  \n",
      "1923   1.18046  1.18106  1.17983    12076  \n",
      "1924   1.18119  1.18150  1.18046     8820  \n",
      "1925   1.18057  1.18140  1.18025     7335  \n",
      "1926   1.18017  1.18065  1.17978     8105  \n",
      "1927   1.17994  1.18034  1.17992     4066  \n",
      "1928   1.18006  1.18026  1.17989     2518  \n",
      "1929   1.18041  1.18043  1.18005     2647  \n",
      "1930   1.17978  1.18045  1.17965     3643  \n",
      "1931   1.17969  1.17998  1.17926     4868  \n",
      "1932   1.17906  1.17981  1.17881     7326  \n",
      "1933   1.17948  1.17953  1.17887     4554  \n",
      "1934   1.17973  1.18004  1.17927     5616  \n",
      "1935   1.17984  1.17988  1.17953     3582  \n",
      "1936   1.17972  1.18005  1.17948     4343  \n",
      "1937   1.17918  1.17975  1.17892     7376  \n",
      "1938   1.17808  1.17919  1.17735    16157  \n",
      "1939   1.17968  1.18018  1.17804    13539  \n",
      "1940   1.18045  1.18052  1.17958     9099  \n",
      "1941   1.18176  1.18286  1.18025    15032  \n",
      "1942   1.18156  1.18234  1.18134    11654  \n",
      "1943   1.18057  1.18167  1.18008    17590  \n",
      "1944   1.17987  1.18150  1.17859    23384  \n",
      "1945   1.18712  1.18752  1.17938    68479  \n",
      "1946   1.18732  1.18847  1.18684    26475  \n",
      "1947   1.18871  1.18872  1.18728    12478  \n",
      "1948   1.18828  1.18901  1.18812     9277  \n",
      "1949   1.18798  1.18831  1.18725     9063  \n",
      "1950   1.19249  1.19422  1.18648    54102  \n",
      "1951   1.19231  1.19350  1.19172     7910  \n",
      "\n",
      "[1952 rows x 10 columns]\n"
     ]
    }
   ],
   "source": [
    "method = '/candles/1/H1'\n",
    "\n",
    "hist_response = requests.get(TRADING_API_URL + method,\n",
    "                             headers = {\n",
    "                                 'User-Agent': 'request',\n",
    "                                 'Authorization': bearer_access_token,\n",
    "                                 'Accept': 'application/json',\n",
    "                                 'Content-Type': 'application/x-wwww-form-urlencoded'\n",
    "                             },\n",
    "                             params = {\n",
    "                                 'num': 1000,\n",
    "                                 'from': 1494086400,\n",
    "                                 'to': 1503835200\n",
    "                             })\n",
    "\n",
    "if hist_response.status_code == 200:\n",
    "  print (\"Data retrieved...\")\n",
    "\n",
    "  hist_data = hist_response.json()\n",
    "  candle_data = hist_data['candles']\n",
    "\n",
    "  df = pd.DataFrame(candle_data)\n",
    "  df.columns = [\"time\", \"bidopen\", \"bidclose\", \"bidhigh\", \"bidlow\", \"askopen\", \"askclose\", \"askhigh\", \"asklow\", \"TickQty\"]\n",
    "  df['time'] = pd.to_datetime(df['time'], unit='s')\n",
    "  print(df)\n",
    "else:\n",
    "  print(hist_response)\n"
   ]
  },
  {
   "cell_type": "markdown",
   "metadata": {},
   "source": [
    "### Subscribe for one update "
   ]
  },
  {
   "cell_type": "code",
   "execution_count": 36,
   "metadata": {},
   "outputs": [
    {
     "name": "stdout",
     "output_type": "stream",
     "text": [
      "<Response [200]>\n",
      "{'response': {'executed': True, 'error': ''}, 'pairs': [{'Updated': 1550184405536, 'Rates': [0.71024, 0.71041, 0.71085, 0.71018, 0.71024, 0.71041], 'Symbol': 'AUD/USD'}]}\n"
     ]
    }
   ],
   "source": [
    "method = '/subscribe'\n",
    "\n",
    "sub_response = requests.post(TRADING_API_URL + method,\n",
    "                           headers = {\n",
    "                                 'User-Agent': 'request',\n",
    "                                 'Authorization': bearer_access_token,\n",
    "                                 'Accept': 'application/json',\n",
    "                                 'Content-Type': 'application/x-www-form-urlencoded'\n",
    "                             },\n",
    "                             data = {\n",
    "                                 'pairs': 'AUD/USD'\n",
    "                             })\n",
    "\n",
    "print(sub_response)\n",
    "print(sub_response.json())"
   ]
  },
  {
   "cell_type": "markdown",
   "metadata": {},
   "source": [
    "### Subscribe for streaming update "
   ]
  },
  {
   "cell_type": "code",
   "execution_count": 37,
   "metadata": {},
   "outputs": [
    {
     "name": "stdout",
     "output_type": "stream",
     "text": [
      "Websocket Connected: 6IcATp2fupFiXMSnAAEY\n",
      "{'Updated': 1550184413845, 'Rates': [0.71024, 0.71041, 0.71085, 0.71018], 'Symbol': 'AUD/USD'}\n",
      "{'Updated': 1550184414536, 'Rates': [0.71025, 0.71042, 0.71085, 0.71018], 'Symbol': 'AUD/USD'}\n",
      "{'Updated': 1550184414833, 'Rates': [0.71023, 0.7104, 0.71085, 0.71018], 'Symbol': 'AUD/USD'}\n",
      "{'Updated': 1550184420821, 'Rates': [0.71024, 0.71041, 0.71085, 0.71018], 'Symbol': 'AUD/USD'}\n",
      "{'Updated': 1550184422822, 'Rates': [0.71023, 0.7104, 0.71085, 0.71018], 'Symbol': 'AUD/USD'}\n",
      "{'Updated': 1550184460561, 'Rates': [0.71023, 0.7104, 0.71085, 0.71018], 'Symbol': 'AUD/USD'}\n",
      "{'Updated': 1550184462930, 'Rates': [0.71023, 0.7103900000000002, 0.71085, 0.71018], 'Symbol': 'AUD/USD'}\n",
      "{'Updated': 1550184463212, 'Rates': [0.71024, 0.71041, 0.71085, 0.71018], 'Symbol': 'AUD/USD'}\n",
      "{'Updated': 1550184469103, 'Rates': [0.71027, 0.71041, 0.71085, 0.71018], 'Symbol': 'AUD/USD'}\n",
      "{'Updated': 1550184469288, 'Rates': [0.71025, 0.71042, 0.71085, 0.71018], 'Symbol': 'AUD/USD'}\n",
      "{'Updated': 1550184474559, 'Rates': [0.71026, 0.71041, 0.71085, 0.71018], 'Symbol': 'AUD/USD'}\n",
      "{'Updated': 1550184480882, 'Rates': [0.71026, 0.7104, 0.71085, 0.71018], 'Symbol': 'AUD/USD'}\n",
      "{'Updated': 1550184481241, 'Rates': [0.71026, 0.71041, 0.71085, 0.71018], 'Symbol': 'AUD/USD'}\n",
      "{'Updated': 1550184483035, 'Rates': [0.71025, 0.7103900000000002, 0.71085, 0.71018], 'Symbol': 'AUD/USD'}\n",
      "{'Updated': 1550184486949, 'Rates': [0.71024, 0.71038, 0.71085, 0.71018], 'Symbol': 'AUD/USD'}\n",
      "{'Updated': 1550184491599, 'Rates': [0.71025, 0.7103900000000002, 0.71085, 0.71018], 'Symbol': 'AUD/USD'}\n",
      "{'Updated': 1550184491771, 'Rates': [0.71026, 0.7104, 0.71085, 0.71018], 'Symbol': 'AUD/USD'}\n",
      "{'Updated': 1550184495423, 'Rates': [0.71024, 0.71041, 0.71085, 0.71018], 'Symbol': 'AUD/USD'}\n",
      "{'Updated': 1550184497325, 'Rates': [0.71023, 0.7104, 0.71085, 0.71018], 'Symbol': 'AUD/USD'}\n",
      "{'Updated': 1550184499325, 'Rates': [0.71022, 0.7103900000000002, 0.71085, 0.71018], 'Symbol': 'AUD/USD'}\n",
      "{'Updated': 1550184505325, 'Rates': [0.71021, 0.71038, 0.71085, 0.71018], 'Symbol': 'AUD/USD'}\n",
      "{'Updated': 1550184506611, 'Rates': [0.71026, 0.71044, 0.71085, 0.71018], 'Symbol': 'AUD/USD'}\n",
      "{'Updated': 1550184507568, 'Rates': [0.71028, 0.71044, 0.71085, 0.71018], 'Symbol': 'AUD/USD'}\n",
      "{'Updated': 1550184509567, 'Rates': [0.71028, 0.71045, 0.71085, 0.71018], 'Symbol': 'AUD/USD'}\n",
      "{'Updated': 1550184519568, 'Rates': [0.71029, 0.71046, 0.71085, 0.71018], 'Symbol': 'AUD/USD'}\n",
      "{'Updated': 1550184529568, 'Rates': [0.7103, 0.71047, 0.71085, 0.71018], 'Symbol': 'AUD/USD'}\n",
      "{'Updated': 1550184535903, 'Rates': [0.71032, 0.71048, 0.71085, 0.71018], 'Symbol': 'AUD/USD'}\n",
      "{'Updated': 1550184537496, 'Rates': [0.71032, 0.71049, 0.71085, 0.71018], 'Symbol': 'AUD/USD'}\n",
      "{'Updated': 1550184537901, 'Rates': [0.71031, 0.71048, 0.71085, 0.71018], 'Symbol': 'AUD/USD'}\n",
      "{'Updated': 1550184541066, 'Rates': [0.71033, 0.71046, 0.71085, 0.71018], 'Symbol': 'AUD/USD'}\n",
      "{'Updated': 1550184554506, 'Rates': [0.71031, 0.71045, 0.71085, 0.71018], 'Symbol': 'AUD/USD'}\n",
      "{'Updated': 1550184564811, 'Rates': [0.71031, 0.71044, 0.71085, 0.71018], 'Symbol': 'AUD/USD'}\n",
      "{'Updated': 1550184565350, 'Rates': [0.71031, 0.71043, 0.71085, 0.71018], 'Symbol': 'AUD/USD'}\n",
      "{'Updated': 1550184565903, 'Rates': [0.71032, 0.71043, 0.71085, 0.71018], 'Symbol': 'AUD/USD'}\n",
      "{'Updated': 1550184583904, 'Rates': [0.71031, 0.71043, 0.71085, 0.71018], 'Symbol': 'AUD/USD'}\n",
      "{'Updated': 1550184585904, 'Rates': [0.71032, 0.71043, 0.71085, 0.71018], 'Symbol': 'AUD/USD'}\n",
      "{'Updated': 1550184589904, 'Rates': [0.71031, 0.71043, 0.71085, 0.71018], 'Symbol': 'AUD/USD'}\n",
      "{'Updated': 1550184591904, 'Rates': [0.71032, 0.71043, 0.71085, 0.71018], 'Symbol': 'AUD/USD'}\n",
      "{'Updated': 1550184615905, 'Rates': [0.71033, 0.71043, 0.71085, 0.71018], 'Symbol': 'AUD/USD'}\n",
      "{'Updated': 1550184621598, 'Rates': [0.71033, 0.71045, 0.71085, 0.71018], 'Symbol': 'AUD/USD'}\n",
      "{'Updated': 1550184621949, 'Rates': [0.71033, 0.71046, 0.71085, 0.71018], 'Symbol': 'AUD/USD'}\n",
      "{'Updated': 1550184628765, 'Rates': [0.71034, 0.71047, 0.71085, 0.71018], 'Symbol': 'AUD/USD'}\n",
      "{'Updated': 1550184630305, 'Rates': [0.71035, 0.71047, 0.71085, 0.71018], 'Symbol': 'AUD/USD'}\n",
      "{'Updated': 1550184630890, 'Rates': [0.71036, 0.71048, 0.71085, 0.71018], 'Symbol': 'AUD/USD'}\n",
      "{'Updated': 1550184632277, 'Rates': [0.71036, 0.71049, 0.71085, 0.71018], 'Symbol': 'AUD/USD'}\n",
      "{'Updated': 1550184632888, 'Rates': [0.71035, 0.71048, 0.71085, 0.71018], 'Symbol': 'AUD/USD'}\n",
      "{'Updated': 1550184633688, 'Rates': [0.71036, 0.71049, 0.71085, 0.71018], 'Symbol': 'AUD/USD'}\n",
      "{'Updated': 1550184634449, 'Rates': [0.71037, 0.71049, 0.71085, 0.71018], 'Symbol': 'AUD/USD'}\n",
      "{'Updated': 1550184636451, 'Rates': [0.71039, 0.71052, 0.71085, 0.71018], 'Symbol': 'AUD/USD'}\n",
      "{'Updated': 1550184637011, 'Rates': [0.71038, 0.7105100000000002, 0.71085, 0.71018], 'Symbol': 'AUD/USD'}\n",
      "{'Updated': 1550184652442, 'Rates': [0.71037, 0.7105100000000002, 0.71085, 0.71018], 'Symbol': 'AUD/USD'}\n",
      "{'Updated': 1550184654548, 'Rates': [0.71038, 0.7105100000000002, 0.71085, 0.71018], 'Symbol': 'AUD/USD'}\n"
     ]
    },
    {
     "ename": "KeyboardInterrupt",
     "evalue": "",
     "output_type": "error",
     "traceback": [
      "\u001b[0;31m---------------------------------------------------------------------------\u001b[0m",
      "\u001b[0;31mKeyboardInterrupt\u001b[0m                         Traceback (most recent call last)",
      "\u001b[0;32m<ipython-input-37-429a3b2288bd>\u001b[0m in \u001b[0;36m<module>\u001b[0;34m\u001b[0m\n\u001b[1;32m      5\u001b[0m \u001b[0;32mif\u001b[0m \u001b[0msub_response\u001b[0m\u001b[0;34m.\u001b[0m\u001b[0mstatus_code\u001b[0m \u001b[0;34m==\u001b[0m \u001b[0;36m200\u001b[0m\u001b[0;34m:\u001b[0m\u001b[0;34m\u001b[0m\u001b[0;34m\u001b[0m\u001b[0m\n\u001b[1;32m      6\u001b[0m     \u001b[0msocketIO\u001b[0m\u001b[0;34m.\u001b[0m\u001b[0mon\u001b[0m\u001b[0;34m(\u001b[0m\u001b[0;34m'AUD/USD'\u001b[0m\u001b[0;34m,\u001b[0m \u001b[0mon_price_update\u001b[0m\u001b[0;34m)\u001b[0m\u001b[0;34m\u001b[0m\u001b[0;34m\u001b[0m\u001b[0m\n\u001b[0;32m----> 7\u001b[0;31m     \u001b[0msocketIO\u001b[0m\u001b[0;34m.\u001b[0m\u001b[0mwait\u001b[0m\u001b[0;34m(\u001b[0m\u001b[0;34m)\u001b[0m\u001b[0;34m\u001b[0m\u001b[0;34m\u001b[0m\u001b[0m\n\u001b[0m",
      "\u001b[0;32m~/anaconda3/lib/python3.7/site-packages/socketIO_client/__init__.py\u001b[0m in \u001b[0;36mwait\u001b[0;34m(self, seconds, **kw)\u001b[0m\n\u001b[1;32m    249\u001b[0m             \u001b[0;32mtry\u001b[0m\u001b[0;34m:\u001b[0m\u001b[0;34m\u001b[0m\u001b[0;34m\u001b[0m\u001b[0m\n\u001b[1;32m    250\u001b[0m                 \u001b[0;32mtry\u001b[0m\u001b[0;34m:\u001b[0m\u001b[0;34m\u001b[0m\u001b[0;34m\u001b[0m\u001b[0m\n\u001b[0;32m--> 251\u001b[0;31m                     \u001b[0mself\u001b[0m\u001b[0;34m.\u001b[0m\u001b[0m_process_packets\u001b[0m\u001b[0;34m(\u001b[0m\u001b[0;34m)\u001b[0m\u001b[0;34m\u001b[0m\u001b[0;34m\u001b[0m\u001b[0m\n\u001b[0m\u001b[1;32m    252\u001b[0m                 \u001b[0;32mexcept\u001b[0m \u001b[0mTimeoutError\u001b[0m\u001b[0;34m:\u001b[0m\u001b[0;34m\u001b[0m\u001b[0;34m\u001b[0m\u001b[0m\n\u001b[1;32m    253\u001b[0m                     \u001b[0;32mpass\u001b[0m\u001b[0;34m\u001b[0m\u001b[0;34m\u001b[0m\u001b[0m\n",
      "\u001b[0;32m~/anaconda3/lib/python3.7/site-packages/socketIO_client/__init__.py\u001b[0m in \u001b[0;36m_process_packets\u001b[0;34m(self)\u001b[0m\n\u001b[1;32m    274\u001b[0m \u001b[0;34m\u001b[0m\u001b[0m\n\u001b[1;32m    275\u001b[0m     \u001b[0;32mdef\u001b[0m \u001b[0m_process_packets\u001b[0m\u001b[0;34m(\u001b[0m\u001b[0mself\u001b[0m\u001b[0;34m)\u001b[0m\u001b[0;34m:\u001b[0m\u001b[0;34m\u001b[0m\u001b[0;34m\u001b[0m\u001b[0m\n\u001b[0;32m--> 276\u001b[0;31m         \u001b[0;32mfor\u001b[0m \u001b[0mengineIO_packet\u001b[0m \u001b[0;32min\u001b[0m \u001b[0mself\u001b[0m\u001b[0;34m.\u001b[0m\u001b[0m_transport\u001b[0m\u001b[0;34m.\u001b[0m\u001b[0mrecv_packet\u001b[0m\u001b[0;34m(\u001b[0m\u001b[0;34m)\u001b[0m\u001b[0;34m:\u001b[0m\u001b[0;34m\u001b[0m\u001b[0;34m\u001b[0m\u001b[0m\n\u001b[0m\u001b[1;32m    277\u001b[0m             \u001b[0;32mtry\u001b[0m\u001b[0;34m:\u001b[0m\u001b[0;34m\u001b[0m\u001b[0;34m\u001b[0m\u001b[0m\n\u001b[1;32m    278\u001b[0m                 \u001b[0mself\u001b[0m\u001b[0;34m.\u001b[0m\u001b[0m_process_packet\u001b[0m\u001b[0;34m(\u001b[0m\u001b[0mengineIO_packet\u001b[0m\u001b[0;34m)\u001b[0m\u001b[0;34m\u001b[0m\u001b[0;34m\u001b[0m\u001b[0m\n",
      "\u001b[0;32m~/anaconda3/lib/python3.7/site-packages/socketIO_client/transports.py\u001b[0m in \u001b[0;36mrecv_packet\u001b[0;34m(self)\u001b[0m\n\u001b[1;32m    144\u001b[0m     \u001b[0;32mdef\u001b[0m \u001b[0mrecv_packet\u001b[0m\u001b[0;34m(\u001b[0m\u001b[0mself\u001b[0m\u001b[0;34m)\u001b[0m\u001b[0;34m:\u001b[0m\u001b[0;34m\u001b[0m\u001b[0;34m\u001b[0m\u001b[0m\n\u001b[1;32m    145\u001b[0m         \u001b[0;32mtry\u001b[0m\u001b[0;34m:\u001b[0m\u001b[0;34m\u001b[0m\u001b[0;34m\u001b[0m\u001b[0m\n\u001b[0;32m--> 146\u001b[0;31m             \u001b[0mpacket_text\u001b[0m \u001b[0;34m=\u001b[0m \u001b[0mself\u001b[0m\u001b[0;34m.\u001b[0m\u001b[0m_connection\u001b[0m\u001b[0;34m.\u001b[0m\u001b[0mrecv\u001b[0m\u001b[0;34m(\u001b[0m\u001b[0;34m)\u001b[0m\u001b[0;34m\u001b[0m\u001b[0;34m\u001b[0m\u001b[0m\n\u001b[0m\u001b[1;32m    147\u001b[0m         \u001b[0;32mexcept\u001b[0m \u001b[0mWebSocketTimeoutException\u001b[0m \u001b[0;32mas\u001b[0m \u001b[0me\u001b[0m\u001b[0;34m:\u001b[0m\u001b[0;34m\u001b[0m\u001b[0;34m\u001b[0m\u001b[0m\n\u001b[1;32m    148\u001b[0m             \u001b[0;32mraise\u001b[0m \u001b[0mTimeoutError\u001b[0m\u001b[0;34m(\u001b[0m\u001b[0;34m'recv timed out (%s)'\u001b[0m \u001b[0;34m%\u001b[0m \u001b[0me\u001b[0m\u001b[0;34m)\u001b[0m\u001b[0;34m\u001b[0m\u001b[0;34m\u001b[0m\u001b[0m\n",
      "\u001b[0;32m~/anaconda3/lib/python3.7/site-packages/websocket/_core.py\u001b[0m in \u001b[0;36mrecv\u001b[0;34m(self)\u001b[0m\n\u001b[1;32m    308\u001b[0m         \"\"\"\n\u001b[1;32m    309\u001b[0m         \u001b[0;32mwith\u001b[0m \u001b[0mself\u001b[0m\u001b[0;34m.\u001b[0m\u001b[0mreadlock\u001b[0m\u001b[0;34m:\u001b[0m\u001b[0;34m\u001b[0m\u001b[0;34m\u001b[0m\u001b[0m\n\u001b[0;32m--> 310\u001b[0;31m             \u001b[0mopcode\u001b[0m\u001b[0;34m,\u001b[0m \u001b[0mdata\u001b[0m \u001b[0;34m=\u001b[0m \u001b[0mself\u001b[0m\u001b[0;34m.\u001b[0m\u001b[0mrecv_data\u001b[0m\u001b[0;34m(\u001b[0m\u001b[0;34m)\u001b[0m\u001b[0;34m\u001b[0m\u001b[0;34m\u001b[0m\u001b[0m\n\u001b[0m\u001b[1;32m    311\u001b[0m         \u001b[0;32mif\u001b[0m \u001b[0msix\u001b[0m\u001b[0;34m.\u001b[0m\u001b[0mPY3\u001b[0m \u001b[0;32mand\u001b[0m \u001b[0mopcode\u001b[0m \u001b[0;34m==\u001b[0m \u001b[0mABNF\u001b[0m\u001b[0;34m.\u001b[0m\u001b[0mOPCODE_TEXT\u001b[0m\u001b[0;34m:\u001b[0m\u001b[0;34m\u001b[0m\u001b[0;34m\u001b[0m\u001b[0m\n\u001b[1;32m    312\u001b[0m             \u001b[0;32mreturn\u001b[0m \u001b[0mdata\u001b[0m\u001b[0;34m.\u001b[0m\u001b[0mdecode\u001b[0m\u001b[0;34m(\u001b[0m\u001b[0;34m\"utf-8\"\u001b[0m\u001b[0;34m)\u001b[0m\u001b[0;34m\u001b[0m\u001b[0;34m\u001b[0m\u001b[0m\n",
      "\u001b[0;32m~/anaconda3/lib/python3.7/site-packages/websocket/_core.py\u001b[0m in \u001b[0;36mrecv_data\u001b[0;34m(self, control_frame)\u001b[0m\n\u001b[1;32m    325\u001b[0m         \u001b[0;32mreturn\u001b[0m  \u001b[0mvalue\u001b[0m\u001b[0;34m:\u001b[0m \u001b[0mtuple\u001b[0m \u001b[0mof\u001b[0m \u001b[0moperation\u001b[0m \u001b[0mcode\u001b[0m \u001b[0;32mand\u001b[0m \u001b[0mstring\u001b[0m\u001b[0;34m(\u001b[0m\u001b[0mbyte\u001b[0m \u001b[0marray\u001b[0m\u001b[0;34m)\u001b[0m \u001b[0mvalue\u001b[0m\u001b[0;34m.\u001b[0m\u001b[0;34m\u001b[0m\u001b[0;34m\u001b[0m\u001b[0m\n\u001b[1;32m    326\u001b[0m         \"\"\"\n\u001b[0;32m--> 327\u001b[0;31m         \u001b[0mopcode\u001b[0m\u001b[0;34m,\u001b[0m \u001b[0mframe\u001b[0m \u001b[0;34m=\u001b[0m \u001b[0mself\u001b[0m\u001b[0;34m.\u001b[0m\u001b[0mrecv_data_frame\u001b[0m\u001b[0;34m(\u001b[0m\u001b[0mcontrol_frame\u001b[0m\u001b[0;34m)\u001b[0m\u001b[0;34m\u001b[0m\u001b[0;34m\u001b[0m\u001b[0m\n\u001b[0m\u001b[1;32m    328\u001b[0m         \u001b[0;32mreturn\u001b[0m \u001b[0mopcode\u001b[0m\u001b[0;34m,\u001b[0m \u001b[0mframe\u001b[0m\u001b[0;34m.\u001b[0m\u001b[0mdata\u001b[0m\u001b[0;34m\u001b[0m\u001b[0;34m\u001b[0m\u001b[0m\n\u001b[1;32m    329\u001b[0m \u001b[0;34m\u001b[0m\u001b[0m\n",
      "\u001b[0;32m~/anaconda3/lib/python3.7/site-packages/websocket/_core.py\u001b[0m in \u001b[0;36mrecv_data_frame\u001b[0;34m(self, control_frame)\u001b[0m\n\u001b[1;32m    338\u001b[0m         \"\"\"\n\u001b[1;32m    339\u001b[0m         \u001b[0;32mwhile\u001b[0m \u001b[0;32mTrue\u001b[0m\u001b[0;34m:\u001b[0m\u001b[0;34m\u001b[0m\u001b[0;34m\u001b[0m\u001b[0m\n\u001b[0;32m--> 340\u001b[0;31m             \u001b[0mframe\u001b[0m \u001b[0;34m=\u001b[0m \u001b[0mself\u001b[0m\u001b[0;34m.\u001b[0m\u001b[0mrecv_frame\u001b[0m\u001b[0;34m(\u001b[0m\u001b[0;34m)\u001b[0m\u001b[0;34m\u001b[0m\u001b[0;34m\u001b[0m\u001b[0m\n\u001b[0m\u001b[1;32m    341\u001b[0m             \u001b[0;32mif\u001b[0m \u001b[0;32mnot\u001b[0m \u001b[0mframe\u001b[0m\u001b[0;34m:\u001b[0m\u001b[0;34m\u001b[0m\u001b[0;34m\u001b[0m\u001b[0m\n\u001b[1;32m    342\u001b[0m                 \u001b[0;31m# handle error:\u001b[0m\u001b[0;34m\u001b[0m\u001b[0;34m\u001b[0m\u001b[0;34m\u001b[0m\u001b[0m\n",
      "\u001b[0;32m~/anaconda3/lib/python3.7/site-packages/websocket/_core.py\u001b[0m in \u001b[0;36mrecv_frame\u001b[0;34m(self)\u001b[0m\n\u001b[1;32m    372\u001b[0m         \u001b[0;32mreturn\u001b[0m \u001b[0mvalue\u001b[0m\u001b[0;34m:\u001b[0m \u001b[0mABNF\u001b[0m \u001b[0mframe\u001b[0m \u001b[0mobject\u001b[0m\u001b[0;34m.\u001b[0m\u001b[0;34m\u001b[0m\u001b[0;34m\u001b[0m\u001b[0m\n\u001b[1;32m    373\u001b[0m         \"\"\"\n\u001b[0;32m--> 374\u001b[0;31m         \u001b[0;32mreturn\u001b[0m \u001b[0mself\u001b[0m\u001b[0;34m.\u001b[0m\u001b[0mframe_buffer\u001b[0m\u001b[0;34m.\u001b[0m\u001b[0mrecv_frame\u001b[0m\u001b[0;34m(\u001b[0m\u001b[0;34m)\u001b[0m\u001b[0;34m\u001b[0m\u001b[0;34m\u001b[0m\u001b[0m\n\u001b[0m\u001b[1;32m    375\u001b[0m \u001b[0;34m\u001b[0m\u001b[0m\n\u001b[1;32m    376\u001b[0m     \u001b[0;32mdef\u001b[0m \u001b[0msend_close\u001b[0m\u001b[0;34m(\u001b[0m\u001b[0mself\u001b[0m\u001b[0;34m,\u001b[0m \u001b[0mstatus\u001b[0m\u001b[0;34m=\u001b[0m\u001b[0mSTATUS_NORMAL\u001b[0m\u001b[0;34m,\u001b[0m \u001b[0mreason\u001b[0m\u001b[0;34m=\u001b[0m\u001b[0msix\u001b[0m\u001b[0;34m.\u001b[0m\u001b[0mb\u001b[0m\u001b[0;34m(\u001b[0m\u001b[0;34m\"\"\u001b[0m\u001b[0;34m)\u001b[0m\u001b[0;34m)\u001b[0m\u001b[0;34m:\u001b[0m\u001b[0;34m\u001b[0m\u001b[0;34m\u001b[0m\u001b[0m\n",
      "\u001b[0;32m~/anaconda3/lib/python3.7/site-packages/websocket/_abnf.py\u001b[0m in \u001b[0;36mrecv_frame\u001b[0;34m(self)\u001b[0m\n\u001b[1;32m    359\u001b[0m             \u001b[0;31m# Header\u001b[0m\u001b[0;34m\u001b[0m\u001b[0;34m\u001b[0m\u001b[0;34m\u001b[0m\u001b[0m\n\u001b[1;32m    360\u001b[0m             \u001b[0;32mif\u001b[0m \u001b[0mself\u001b[0m\u001b[0;34m.\u001b[0m\u001b[0mhas_received_header\u001b[0m\u001b[0;34m(\u001b[0m\u001b[0;34m)\u001b[0m\u001b[0;34m:\u001b[0m\u001b[0;34m\u001b[0m\u001b[0;34m\u001b[0m\u001b[0m\n\u001b[0;32m--> 361\u001b[0;31m                 \u001b[0mself\u001b[0m\u001b[0;34m.\u001b[0m\u001b[0mrecv_header\u001b[0m\u001b[0;34m(\u001b[0m\u001b[0;34m)\u001b[0m\u001b[0;34m\u001b[0m\u001b[0;34m\u001b[0m\u001b[0m\n\u001b[0m\u001b[1;32m    362\u001b[0m             \u001b[0;34m(\u001b[0m\u001b[0mfin\u001b[0m\u001b[0;34m,\u001b[0m \u001b[0mrsv1\u001b[0m\u001b[0;34m,\u001b[0m \u001b[0mrsv2\u001b[0m\u001b[0;34m,\u001b[0m \u001b[0mrsv3\u001b[0m\u001b[0;34m,\u001b[0m \u001b[0mopcode\u001b[0m\u001b[0;34m,\u001b[0m \u001b[0mhas_mask\u001b[0m\u001b[0;34m,\u001b[0m \u001b[0m_\u001b[0m\u001b[0;34m)\u001b[0m \u001b[0;34m=\u001b[0m \u001b[0mself\u001b[0m\u001b[0;34m.\u001b[0m\u001b[0mheader\u001b[0m\u001b[0;34m\u001b[0m\u001b[0;34m\u001b[0m\u001b[0m\n\u001b[1;32m    363\u001b[0m \u001b[0;34m\u001b[0m\u001b[0m\n",
      "\u001b[0;32m~/anaconda3/lib/python3.7/site-packages/websocket/_abnf.py\u001b[0m in \u001b[0;36mrecv_header\u001b[0;34m(self)\u001b[0m\n\u001b[1;32m    307\u001b[0m \u001b[0;34m\u001b[0m\u001b[0m\n\u001b[1;32m    308\u001b[0m     \u001b[0;32mdef\u001b[0m \u001b[0mrecv_header\u001b[0m\u001b[0;34m(\u001b[0m\u001b[0mself\u001b[0m\u001b[0;34m)\u001b[0m\u001b[0;34m:\u001b[0m\u001b[0;34m\u001b[0m\u001b[0;34m\u001b[0m\u001b[0m\n\u001b[0;32m--> 309\u001b[0;31m         \u001b[0mheader\u001b[0m \u001b[0;34m=\u001b[0m \u001b[0mself\u001b[0m\u001b[0;34m.\u001b[0m\u001b[0mrecv_strict\u001b[0m\u001b[0;34m(\u001b[0m\u001b[0;36m2\u001b[0m\u001b[0;34m)\u001b[0m\u001b[0;34m\u001b[0m\u001b[0;34m\u001b[0m\u001b[0m\n\u001b[0m\u001b[1;32m    310\u001b[0m         \u001b[0mb1\u001b[0m \u001b[0;34m=\u001b[0m \u001b[0mheader\u001b[0m\u001b[0;34m[\u001b[0m\u001b[0;36m0\u001b[0m\u001b[0;34m]\u001b[0m\u001b[0;34m\u001b[0m\u001b[0;34m\u001b[0m\u001b[0m\n\u001b[1;32m    311\u001b[0m \u001b[0;34m\u001b[0m\u001b[0m\n",
      "\u001b[0;32m~/anaconda3/lib/python3.7/site-packages/websocket/_abnf.py\u001b[0m in \u001b[0;36mrecv_strict\u001b[0;34m(self, bufsize)\u001b[0m\n\u001b[1;32m    394\u001b[0m             \u001b[0;31m# buffers allocated and then shrunk, which results in\u001b[0m\u001b[0;34m\u001b[0m\u001b[0;34m\u001b[0m\u001b[0;34m\u001b[0m\u001b[0m\n\u001b[1;32m    395\u001b[0m             \u001b[0;31m# fragmentation.\u001b[0m\u001b[0;34m\u001b[0m\u001b[0;34m\u001b[0m\u001b[0;34m\u001b[0m\u001b[0m\n\u001b[0;32m--> 396\u001b[0;31m             \u001b[0mbytes_\u001b[0m \u001b[0;34m=\u001b[0m \u001b[0mself\u001b[0m\u001b[0;34m.\u001b[0m\u001b[0mrecv\u001b[0m\u001b[0;34m(\u001b[0m\u001b[0mmin\u001b[0m\u001b[0;34m(\u001b[0m\u001b[0;36m16384\u001b[0m\u001b[0;34m,\u001b[0m \u001b[0mshortage\u001b[0m\u001b[0;34m)\u001b[0m\u001b[0;34m)\u001b[0m\u001b[0;34m\u001b[0m\u001b[0;34m\u001b[0m\u001b[0m\n\u001b[0m\u001b[1;32m    397\u001b[0m             \u001b[0mself\u001b[0m\u001b[0;34m.\u001b[0m\u001b[0mrecv_buffer\u001b[0m\u001b[0;34m.\u001b[0m\u001b[0mappend\u001b[0m\u001b[0;34m(\u001b[0m\u001b[0mbytes_\u001b[0m\u001b[0;34m)\u001b[0m\u001b[0;34m\u001b[0m\u001b[0;34m\u001b[0m\u001b[0m\n\u001b[1;32m    398\u001b[0m             \u001b[0mshortage\u001b[0m \u001b[0;34m-=\u001b[0m \u001b[0mlen\u001b[0m\u001b[0;34m(\u001b[0m\u001b[0mbytes_\u001b[0m\u001b[0;34m)\u001b[0m\u001b[0;34m\u001b[0m\u001b[0;34m\u001b[0m\u001b[0m\n",
      "\u001b[0;32m~/anaconda3/lib/python3.7/site-packages/websocket/_core.py\u001b[0m in \u001b[0;36m_recv\u001b[0;34m(self, bufsize)\u001b[0m\n\u001b[1;32m    447\u001b[0m     \u001b[0;32mdef\u001b[0m \u001b[0m_recv\u001b[0m\u001b[0;34m(\u001b[0m\u001b[0mself\u001b[0m\u001b[0;34m,\u001b[0m \u001b[0mbufsize\u001b[0m\u001b[0;34m)\u001b[0m\u001b[0;34m:\u001b[0m\u001b[0;34m\u001b[0m\u001b[0;34m\u001b[0m\u001b[0m\n\u001b[1;32m    448\u001b[0m         \u001b[0;32mtry\u001b[0m\u001b[0;34m:\u001b[0m\u001b[0;34m\u001b[0m\u001b[0;34m\u001b[0m\u001b[0m\n\u001b[0;32m--> 449\u001b[0;31m             \u001b[0;32mreturn\u001b[0m \u001b[0mrecv\u001b[0m\u001b[0;34m(\u001b[0m\u001b[0mself\u001b[0m\u001b[0;34m.\u001b[0m\u001b[0msock\u001b[0m\u001b[0;34m,\u001b[0m \u001b[0mbufsize\u001b[0m\u001b[0;34m)\u001b[0m\u001b[0;34m\u001b[0m\u001b[0;34m\u001b[0m\u001b[0m\n\u001b[0m\u001b[1;32m    450\u001b[0m         \u001b[0;32mexcept\u001b[0m \u001b[0mWebSocketConnectionClosedException\u001b[0m\u001b[0;34m:\u001b[0m\u001b[0;34m\u001b[0m\u001b[0;34m\u001b[0m\u001b[0m\n\u001b[1;32m    451\u001b[0m             \u001b[0;32mif\u001b[0m \u001b[0mself\u001b[0m\u001b[0;34m.\u001b[0m\u001b[0msock\u001b[0m\u001b[0;34m:\u001b[0m\u001b[0;34m\u001b[0m\u001b[0;34m\u001b[0m\u001b[0m\n",
      "\u001b[0;32m~/anaconda3/lib/python3.7/site-packages/websocket/_socket.py\u001b[0m in \u001b[0;36mrecv\u001b[0;34m(sock, bufsize)\u001b[0m\n\u001b[1;32m     79\u001b[0m \u001b[0;34m\u001b[0m\u001b[0m\n\u001b[1;32m     80\u001b[0m     \u001b[0;32mtry\u001b[0m\u001b[0;34m:\u001b[0m\u001b[0;34m\u001b[0m\u001b[0;34m\u001b[0m\u001b[0m\n\u001b[0;32m---> 81\u001b[0;31m         \u001b[0mbytes_\u001b[0m \u001b[0;34m=\u001b[0m \u001b[0msock\u001b[0m\u001b[0;34m.\u001b[0m\u001b[0mrecv\u001b[0m\u001b[0;34m(\u001b[0m\u001b[0mbufsize\u001b[0m\u001b[0;34m)\u001b[0m\u001b[0;34m\u001b[0m\u001b[0;34m\u001b[0m\u001b[0m\n\u001b[0m\u001b[1;32m     82\u001b[0m     \u001b[0;32mexcept\u001b[0m \u001b[0msocket\u001b[0m\u001b[0;34m.\u001b[0m\u001b[0mtimeout\u001b[0m \u001b[0;32mas\u001b[0m \u001b[0me\u001b[0m\u001b[0;34m:\u001b[0m\u001b[0;34m\u001b[0m\u001b[0;34m\u001b[0m\u001b[0m\n\u001b[1;32m     83\u001b[0m         \u001b[0mmessage\u001b[0m \u001b[0;34m=\u001b[0m \u001b[0mextract_err_message\u001b[0m\u001b[0;34m(\u001b[0m\u001b[0me\u001b[0m\u001b[0;34m)\u001b[0m\u001b[0;34m\u001b[0m\u001b[0;34m\u001b[0m\u001b[0m\n",
      "\u001b[0;32m~/anaconda3/lib/python3.7/ssl.py\u001b[0m in \u001b[0;36mrecv\u001b[0;34m(self, buflen, flags)\u001b[0m\n\u001b[1;32m   1035\u001b[0m                     \u001b[0;34m\"non-zero flags not allowed in calls to recv() on %s\"\u001b[0m \u001b[0;34m%\u001b[0m\u001b[0;34m\u001b[0m\u001b[0;34m\u001b[0m\u001b[0m\n\u001b[1;32m   1036\u001b[0m                     self.__class__)\n\u001b[0;32m-> 1037\u001b[0;31m             \u001b[0;32mreturn\u001b[0m \u001b[0mself\u001b[0m\u001b[0;34m.\u001b[0m\u001b[0mread\u001b[0m\u001b[0;34m(\u001b[0m\u001b[0mbuflen\u001b[0m\u001b[0;34m)\u001b[0m\u001b[0;34m\u001b[0m\u001b[0;34m\u001b[0m\u001b[0m\n\u001b[0m\u001b[1;32m   1038\u001b[0m         \u001b[0;32melse\u001b[0m\u001b[0;34m:\u001b[0m\u001b[0;34m\u001b[0m\u001b[0;34m\u001b[0m\u001b[0m\n\u001b[1;32m   1039\u001b[0m             \u001b[0;32mreturn\u001b[0m \u001b[0msuper\u001b[0m\u001b[0;34m(\u001b[0m\u001b[0;34m)\u001b[0m\u001b[0;34m.\u001b[0m\u001b[0mrecv\u001b[0m\u001b[0;34m(\u001b[0m\u001b[0mbuflen\u001b[0m\u001b[0;34m,\u001b[0m \u001b[0mflags\u001b[0m\u001b[0;34m)\u001b[0m\u001b[0;34m\u001b[0m\u001b[0;34m\u001b[0m\u001b[0m\n",
      "\u001b[0;32m~/anaconda3/lib/python3.7/ssl.py\u001b[0m in \u001b[0;36mread\u001b[0;34m(self, len, buffer)\u001b[0m\n\u001b[1;32m    911\u001b[0m                 \u001b[0;32mreturn\u001b[0m \u001b[0mself\u001b[0m\u001b[0;34m.\u001b[0m\u001b[0m_sslobj\u001b[0m\u001b[0;34m.\u001b[0m\u001b[0mread\u001b[0m\u001b[0;34m(\u001b[0m\u001b[0mlen\u001b[0m\u001b[0;34m,\u001b[0m \u001b[0mbuffer\u001b[0m\u001b[0;34m)\u001b[0m\u001b[0;34m\u001b[0m\u001b[0;34m\u001b[0m\u001b[0m\n\u001b[1;32m    912\u001b[0m             \u001b[0;32melse\u001b[0m\u001b[0;34m:\u001b[0m\u001b[0;34m\u001b[0m\u001b[0;34m\u001b[0m\u001b[0m\n\u001b[0;32m--> 913\u001b[0;31m                 \u001b[0;32mreturn\u001b[0m \u001b[0mself\u001b[0m\u001b[0;34m.\u001b[0m\u001b[0m_sslobj\u001b[0m\u001b[0;34m.\u001b[0m\u001b[0mread\u001b[0m\u001b[0;34m(\u001b[0m\u001b[0mlen\u001b[0m\u001b[0;34m)\u001b[0m\u001b[0;34m\u001b[0m\u001b[0;34m\u001b[0m\u001b[0m\n\u001b[0m\u001b[1;32m    914\u001b[0m         \u001b[0;32mexcept\u001b[0m \u001b[0mSSLError\u001b[0m \u001b[0;32mas\u001b[0m \u001b[0mx\u001b[0m\u001b[0;34m:\u001b[0m\u001b[0;34m\u001b[0m\u001b[0;34m\u001b[0m\u001b[0m\n\u001b[1;32m    915\u001b[0m             \u001b[0;32mif\u001b[0m \u001b[0mx\u001b[0m\u001b[0;34m.\u001b[0m\u001b[0margs\u001b[0m\u001b[0;34m[\u001b[0m\u001b[0;36m0\u001b[0m\u001b[0;34m]\u001b[0m \u001b[0;34m==\u001b[0m \u001b[0mSSL_ERROR_EOF\u001b[0m \u001b[0;32mand\u001b[0m \u001b[0mself\u001b[0m\u001b[0;34m.\u001b[0m\u001b[0msuppress_ragged_eofs\u001b[0m\u001b[0;34m:\u001b[0m\u001b[0;34m\u001b[0m\u001b[0;34m\u001b[0m\u001b[0m\n",
      "\u001b[0;31mKeyboardInterrupt\u001b[0m: "
     ]
    }
   ],
   "source": [
    "def on_price_update(msg):\n",
    "    response = json.loads(msg)\n",
    "    print(response)\n",
    "\n",
    "if sub_response.status_code == 200:\n",
    "    socketIO.on('AUD/USD', on_price_update)\n",
    "    socketIO.wait()"
   ]
  }
 ],
 "metadata": {
  "kernelspec": {
   "display_name": "Python 3",
   "language": "python",
   "name": "python3"
  },
  "language_info": {
   "codemirror_mode": {
    "name": "ipython",
    "version": 3
   },
   "file_extension": ".py",
   "mimetype": "text/x-python",
   "name": "python",
   "nbconvert_exporter": "python",
   "pygments_lexer": "ipython3",
   "version": "3.7.1"
  }
 },
 "nbformat": 4,
 "nbformat_minor": 2
}
