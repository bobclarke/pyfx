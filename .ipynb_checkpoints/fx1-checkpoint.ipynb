{
 "cells": [
  {
   "cell_type": "code",
   "execution_count": null,
   "metadata": {},
   "outputs": [],
   "source": [
    "import pandas as pd\n",
    "import json\n",
    "import requests\n",
    "from socketIO_client import SocketIO"
   ]
  },
  {
   "cell_type": "code",
   "execution_count": null,
   "metadata": {},
   "outputs": [],
   "source": [
    "TRADING_API_URL = 'https://api-demo.fxcm.com:443'\n",
    "WEBSOCKET_PORT = 443\n",
    "ACCESS_TOKEN = 'a2a3a4cf0621891c59e51d4d8ccf6c410b82da3d'"
   ]
  },
  {
   "cell_type": "markdown",
   "metadata": {},
   "source": [
    "### Connect"
   ]
  },
  {
   "cell_type": "code",
   "execution_count": null,
   "metadata": {},
   "outputs": [],
   "source": [
    "def on_connect():\n",
    "    print('Websocket Connected: ' + socketIO._engineIO_session.id)\n",
    "\n",
    "def on_close():\n",
    "        print('Websocket Closed.')\n",
    "\n",
    "socketIO =  SocketIO(TRADING_API_URL, WEBSOCKET_PORT, params={'access_token' : ACCESS_TOKEN})\n",
    "\n",
    "socketIO.on('connect', on_connect)\n",
    "socketIO.on('disconnect', on_close)\n",
    "\n",
    "bearer_access_token = \"Bearer \" + socketIO._engineIO_session.id + ACCESS_TOKEN\n",
    "\n",
    "print(bearer_access_token)"
   ]
  },
  {
   "cell_type": "markdown",
   "metadata": {},
   "source": [
    "### Pull historical prices"
   ]
  },
  {
   "cell_type": "code",
   "execution_count": null,
   "metadata": {},
   "outputs": [],
   "source": [
    "method = '/candles/1/H1'\n",
    "\n",
    "hist_response = requests.get(TRADING_API_URL + method,\n",
    "                             headers = {\n",
    "                                 'User-Agent': 'request',\n",
    "                                 'Authorization': bearer_access_token,\n",
    "                                 'Accept': 'application/json',\n",
    "                                 'Content-Type': 'application/x-wwww-form-urlencoded'\n",
    "                             },\n",
    "                             params = {\n",
    "                                 'num': 1000,\n",
    "                                 'from': 1494086400,\n",
    "                                 'to': 1503835200\n",
    "                             })\n",
    "\n",
    "if hist_response.status_code == 200:\n",
    "  print (\"Data retrieved...\")\n",
    "\n",
    "  hist_data = hist_response.json()\n",
    "  candle_data = hist_data['candles']\n",
    "\n",
    "  df = pd.DataFrame(candle_data)\n",
    "  df.columns = [\"time\", \"bidopen\", \"bidclose\", \"bidhigh\", \"bidlow\", \"askopen\", \"askclose\", \"askhigh\", \"asklow\", \"TickQty\"]\n",
    "  df['time'] = pd.to_datetime(df['time'], unit='s')\n",
    "  print(df)\n",
    "else:\n",
    "  print(hist_response)\n"
   ]
  },
  {
   "cell_type": "markdown",
   "metadata": {},
   "source": [
    "### Subscribe for one update "
   ]
  },
  {
   "cell_type": "code",
   "execution_count": null,
   "metadata": {},
   "outputs": [],
   "source": [
    "method = '/subscribe'\n",
    "\n",
    "sub_response = requests.post(TRADING_API_URL + method,\n",
    "                           headers = {\n",
    "                                 'User-Agent': 'request',\n",
    "                                 'Authorization': bearer_access_token,\n",
    "                                 'Accept': 'application/json',\n",
    "                                 'Content-Type': 'application/x-www-form-urlencoded'\n",
    "                             },\n",
    "                             data = {\n",
    "                                 'pairs': 'AUD/USD'\n",
    "                             })\n",
    "\n",
    "print(sub_response)\n",
    "print(sub_response.json())"
   ]
  },
  {
   "cell_type": "markdown",
   "metadata": {},
   "source": [
    "### Subscribe for streaming update "
   ]
  },
  {
   "cell_type": "code",
   "execution_count": null,
   "metadata": {},
   "outputs": [],
   "source": [
    "def on_price_update(msg):\n",
    "    response = json.loads(msg)\n",
    "    print(response)\n",
    "\n",
    "if sub_response.status_code == 200:\n",
    "    socketIO.on('AUD/USD', on_price_update)\n",
    "    socketIO.wait()"
   ]
  }
 ],
 "metadata": {
  "kernelspec": {
   "display_name": "Python 3",
   "language": "python",
   "name": "python3"
  },
  "language_info": {
   "codemirror_mode": {
    "name": "ipython",
    "version": 3
   },
   "file_extension": ".py",
   "mimetype": "text/x-python",
   "name": "python",
   "nbconvert_exporter": "python",
   "pygments_lexer": "ipython3",
   "version": "3.7.1"
  }
 },
 "nbformat": 4,
 "nbformat_minor": 2
}
